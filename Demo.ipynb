{
 "cells": [
  {
   "cell_type": "markdown",
   "metadata": {},
   "source": [
    "This is a demo of [`homogint`](https://github.com/olivierverdier/homogint), a simple Python library for integration on homogeneous spaces. The theoretical background is explained in the paper [Integrators on homogeneous spaces][paper], by [Oivier Verdier](https://www.olivierverdier.com/) and Hans Munthe-Kaas.\n",
    "|\n",
    "[paper]: http://arxiv.org/abs/1402.6981"
   ]
  },
  {
   "cell_type": "markdown",
   "metadata": {},
   "source": [
    "## General imports"
   ]
  },
  {
   "cell_type": "code",
   "execution_count": null,
   "metadata": {
    "collapsed": false,
    "jupyter": {
     "outputs_hidden": false
    }
   },
   "outputs": [],
   "source": [
    "%matplotlib inline\n",
    "import matplotlib.pyplot as plt\n",
    "import numpy as np\n",
    "#from homogint import *\n",
    "from homogint import RungeKutta, time_step\n",
    "import homogint.skeletons as sk"
   ]
  },
  {
   "cell_type": "markdown",
   "metadata": {},
   "source": [
    "Plotting routine:"
   ]
  },
  {
   "cell_type": "code",
   "execution_count": null,
   "metadata": {
    "collapsed": false,
    "jupyter": {
     "outputs_hidden": false
    }
   },
   "outputs": [],
   "source": [
    "from mpl_toolkits.mplot3d import Axes3D\n",
    "def plot_sphere(ax=None):\n",
    "    if ax is None:\n",
    "        ax = plt.gcf().add_subplot(111, projection='3d')\n",
    "    ax.autoscale(tight=True)\n",
    "    ax.set_axis_off()\n",
    "    ax.set_aspect(\"equal\")\n",
    "\n",
    "    u = np.linspace(0, 2 * np.pi, 100)\n",
    "    v = np.linspace(0, np.pi, 100).reshape(-1,1)\n",
    "\n",
    "    x = np.cos(u) * np.sin(v)\n",
    "    y = np.sin(u) * np.sin(v)\n",
    "    z = np.cos(v)\n",
    "    ax.plot_wireframe(x, y, z,  rstride=4, cstride=4, color='k', alpha=.1)\n",
    "\n",
    "    return ax"
   ]
  },
  {
   "cell_type": "markdown",
   "metadata": {},
   "source": [
    "## Set up the solver"
   ]
  },
  {
   "cell_type": "markdown",
   "metadata": {},
   "source": [
    "We will use the fourth order Rungke–Kutta–Munthe-Kaas method."
   ]
  },
  {
   "cell_type": "markdown",
   "metadata": {},
   "source": [
    "It can be described by the following *transition functions* (see [§3 in the paper][paper]):\n",
    "\n",
    "\\\\[\n",
    "\\begin{align}\n",
    "    \\theta\\_{1,0} &= \\frac{1}{2} F\\_{0} \\\\\\\\\n",
    "\t\\theta\\_{2,0} &= \\frac{1}{2}F\\_1 - \\frac{1}{8}[F\\_{0},F\\_1]\\\\\\\\\n",
    "    \\theta\\_{3,0} &= F\\_2 \\\\\\\\\n",
    "    \\theta\\_{4,0} &= \\frac{1}{6} (F\\_0 + 2(F\\_1+F\\_2) + F\\_3) - \\frac{1}{12} [F\\_0, F\\_3]\n",
    "\\end{align}\n",
    "\\\\]\n",
    "\n",
    "[paper]: http://arxiv.org/abs/1402.6981"
   ]
  },
  {
   "cell_type": "code",
   "execution_count": null,
   "metadata": {},
   "outputs": [],
   "source": [
    "rkmk4 = RungeKutta(sk.RKMK4())"
   ]
  },
  {
   "cell_type": "markdown",
   "metadata": {},
   "source": [
    "We define a simple solver function that we use to solve the examples."
   ]
  },
  {
   "cell_type": "code",
   "execution_count": null,
   "metadata": {},
   "outputs": [],
   "source": [
    "import tqdm"
   ]
  },
  {
   "cell_type": "code",
   "execution_count": null,
   "metadata": {
    "collapsed": false,
    "jupyter": {
     "outputs_hidden": false
    }
   },
   "outputs": [],
   "source": [
    "def solve(vf,xs,stopping,action=None, maxit=10000):\n",
    "    \"Simple solver with stopping condition. The list xs is modified **in place**.\"\n",
    "    for i in tqdm.tqdm(range(maxit)):\n",
    "        if stopping(i,xs[-1]):\n",
    "            break\n",
    "        xs.append(rkmk4.step(vf, xs[-1], action=action))"
   ]
  },
  {
   "cell_type": "markdown",
   "metadata": {},
   "source": [
    "## Sphere: quadrature"
   ]
  },
  {
   "cell_type": "markdown",
   "metadata": {},
   "source": [
    "*Example from [DiffMan](https://github.com/kenthe/DiffMan/blob/master/auxiliary/examples/vfex5.m)*."
   ]
  },
  {
   "cell_type": "markdown",
   "metadata": {},
   "source": [
    "We study the solution of the equation $x'(t) = ξ(t)x(t)$, where $x$ is on the sphere, and\n",
    "\\\\[\n",
    "ξ(t) = \\begin{bmatrix}0 & t & -0.4\\cos(t) \\\\ -t & 0 & 0.1t \\\\ 0.4 \\cos(t) & -0.1 t & 0\\end{bmatrix} \\in \\mathsf{so}(3)\n",
    "\\\\]\n",
    "\n",
    "This is equivalent to consider the problem\n",
    "\\\\[\n",
    "x'(t) = ω(t) \\times x(t)\n",
    "\\\\]\n",
    "with $ω(t) = -(0.1t,0.4\\cos(t),t)$."
   ]
  },
  {
   "cell_type": "markdown",
   "metadata": {},
   "source": [
    "We use a bit of a trickery here, and use instead the autonomous vector (in block notation):\n",
    "\\\\[\n",
    "\\zeta(x) = \\begin{bmatrix} \\xi(t) & 0 &0 \\\\ 0 & 0 & 1 \\\\ 0 & 0 & 0 \\end{bmatrix}\n",
    "\\\\]\n",
    "This amounts to work with the group $\\mathsf{SO(3) \\times \\mathbf{R}}$ instead."
   ]
  },
  {
   "cell_type": "code",
   "execution_count": null,
   "metadata": {
    "collapsed": false,
    "jupyter": {
     "outputs_hidden": false
    }
   },
   "outputs": [],
   "source": [
    "def timedep_field(x):\n",
    "    \"\"\"\n",
    "    Example from Diffman manual.\n",
    "    \"\"\"\n",
    "    J = np.zeros([5,5])\n",
    "    t = x[-2]\n",
    "    J[0,1] = t\n",
    "    J[0,2] = -.4*np.cos(t)\n",
    "    J[1,2] = .1*t\n",
    "    J -= J.T\n",
    "    J[-2,-1] = 1.\n",
    "    return J"
   ]
  },
  {
   "cell_type": "code",
   "execution_count": null,
   "metadata": {
    "collapsed": false,
    "jupyter": {
     "outputs_hidden": false
    }
   },
   "outputs": [],
   "source": [
    "xs = [np.array([0.,0,1,0,1])]\n",
    "dt = .02\n",
    "solve(time_step(dt)(timedep_field),xs,lambda i,x:x[-2]>10)\n",
    "axs = np.array(xs)"
   ]
  },
  {
   "cell_type": "code",
   "execution_count": null,
   "metadata": {
    "collapsed": false,
    "jupyter": {
     "outputs_hidden": false
    }
   },
   "outputs": [],
   "source": [
    "def plot2(axs):\n",
    "    plt.plot(axs[0,0],axs[0,1],'o')\n",
    "    plt.plot(axs[:,0], axs[:,1],marker='.')"
   ]
  },
  {
   "cell_type": "code",
   "execution_count": null,
   "metadata": {
    "collapsed": false,
    "jupyter": {
     "outputs_hidden": false
    }
   },
   "outputs": [],
   "source": [
    "plt.axis('equal')\n",
    "plot2(axs)"
   ]
  },
  {
   "cell_type": "code",
   "execution_count": null,
   "metadata": {
    "collapsed": false,
    "jupyter": {
     "outputs_hidden": false
    }
   },
   "outputs": [],
   "source": [
    "fig = plt.figure(figsize=(15,10))\n",
    "ax = plot_sphere()\n",
    "tot = len(xs)\n",
    "for i,s in enumerate([slice(0,tot//2,None), slice(tot//2,None,None)]):\n",
    "    ax.plot(axs[s,0],axs[s,1],axs[s,2],lw=2,marker='.',color=['black','blue'][i], alpha=[1.,0.2][i])\n",
    "ax.view_init(50,-130)\n",
    "# savefig('quad.pdf')"
   ]
  },
  {
   "cell_type": "markdown",
   "metadata": {},
   "source": [
    "## $\\mathsf{SO}(3)$: Quadrature"
   ]
  },
  {
   "cell_type": "markdown",
   "metadata": {},
   "source": [
    "*Example from [DiffMan](https://github.com/kenthe/DiffMan/blob/master/auxiliary/examples/vfex1.m)*"
   ]
  },
  {
   "cell_type": "markdown",
   "metadata": {},
   "source": [
    "The field is\n",
    "\\\\[\n",
    "\\xi(t) = \\begin{bmatrix} 0 & t & 1\\\\ -t & 0 & -t^2 \\\\ -1 & t^2 & 0\\end{bmatrix}\n",
    "\\\\]"
   ]
  },
  {
   "cell_type": "code",
   "execution_count": null,
   "metadata": {
    "collapsed": false,
    "jupyter": {
     "outputs_hidden": false
    }
   },
   "outputs": [],
   "source": [
    "def so31_field(x):\n",
    "    t = x[3,3]\n",
    "    xi = np.zeros([5,5])\n",
    "    xi[0,1] = t\n",
    "    xi[0,2] = 1.\n",
    "    xi[1,2] = -t*t\n",
    "    xi -= xi.T\n",
    "    xi[-2,-1] = 1.\n",
    "    return xi"
   ]
  },
  {
   "cell_type": "code",
   "execution_count": null,
   "metadata": {
    "collapsed": false,
    "jupyter": {
     "outputs_hidden": false
    }
   },
   "outputs": [],
   "source": [
    "x0 = np.zeros([5,4])\n",
    "x0[:3,:3] = np.identity(3)\n",
    "x0[-1,-1] = 1.\n",
    "xs = [x0]\n",
    "dt = .01\n",
    "solve(time_step(dt)(so31_field), xs, lambda i,x: x[-2,-1] > 5)"
   ]
  },
  {
   "cell_type": "code",
   "execution_count": null,
   "metadata": {
    "collapsed": false,
    "jupyter": {
     "outputs_hidden": false
    }
   },
   "outputs": [],
   "source": [
    "axs = np.array(xs)"
   ]
  },
  {
   "cell_type": "markdown",
   "metadata": {},
   "source": [
    "Plot the three unit vectors of the rotation matrix:"
   ]
  },
  {
   "cell_type": "code",
   "execution_count": null,
   "metadata": {
    "collapsed": false,
    "jupyter": {
     "outputs_hidden": false
    }
   },
   "outputs": [],
   "source": [
    "fig = plt.figure(figsize=(15,10))\n",
    "ax = plot_sphere()\n",
    "for i in range(3):\n",
    "    ax.plot(axs[:,0,i],axs[:,1,i],axs[:,2,i],lw=2,marker='.')\n",
    "ax.view_init(45,80)\n",
    "plt.savefig('so3quad.svg', bbox_inches='tight', pad_inches=-1.5)"
   ]
  },
  {
   "cell_type": "markdown",
   "metadata": {},
   "source": [
    "## Flat space: Lorenz equation"
   ]
  },
  {
   "cell_type": "markdown",
   "metadata": {},
   "source": [
    "*Example from [DiffMan](https://github.com/kenthe/DiffMan/blob/master/auxiliary/examples/vfex2.m)*"
   ]
  },
  {
   "cell_type": "markdown",
   "metadata": {},
   "source": [
    "This is the equation\n",
    "\\\\[\n",
    "(x,y,z)' = (-βx + yz, -σy + σz, -xy + ρy - z)\n",
    "\\\\]\n",
    "with the values\n",
    "\\\\[\n",
    "σ = 10 \\qquad ρ = 28 \\qquad β = 8/3\n",
    "\\\\]"
   ]
  },
  {
   "cell_type": "markdown",
   "metadata": {},
   "source": [
    "The idea here is to use the translation group, so the infinitesimal vector field is\n",
    "\\\\[\n",
    "\\xi(x) = \\begin{bmatrix} 0 & v(x)\\\\ 0 & 0\\end{bmatrix}\n",
    "\\\\]\n",
    "where $v(x)\\in\\mathbf{R}^3$ is the Lorenz vector field above."
   ]
  },
  {
   "cell_type": "code",
   "execution_count": null,
   "metadata": {
    "collapsed": false,
    "jupyter": {
     "outputs_hidden": false
    }
   },
   "outputs": [],
   "source": [
    "def lorenz(x, sigma=10, beta=8./3., rho=28):\n",
    "    y = x[1]\n",
    "    A = np.array([[-beta, 0, y],\n",
    "         [0, -sigma, sigma],\n",
    "        [-y, rho, -1]])\n",
    "    vf = np.dot(A,x[:3])\n",
    "    xi = np.zeros([4,4])\n",
    "    xi[:-1,-1] = vf # translation only\n",
    "    return xi"
   ]
  },
  {
   "cell_type": "code",
   "execution_count": null,
   "metadata": {
    "collapsed": false,
    "jupyter": {
     "outputs_hidden": false
    }
   },
   "outputs": [],
   "source": [
    "xs = [np.array([25.,0,-20,1])]\n",
    "solve(time_step(0.02)(lorenz), xs, lambda i,x: i > 20/.02)"
   ]
  },
  {
   "cell_type": "code",
   "execution_count": null,
   "metadata": {
    "collapsed": false,
    "jupyter": {
     "outputs_hidden": false
    }
   },
   "outputs": [],
   "source": [
    "axs = np.array(xs)"
   ]
  },
  {
   "cell_type": "code",
   "execution_count": null,
   "metadata": {
    "collapsed": false,
    "jupyter": {
     "outputs_hidden": false
    }
   },
   "outputs": [],
   "source": [
    "fig = plt.figure(figsize=(10,8))\n",
    "ax = fig.add_subplot(111, projection='3d')\n",
    "ax.plot(axs[:,0],axs[:,1],axs[:,2],marker='.')\n",
    "ax.plot([axs[0,0]],[axs[0,1]],[axs[0,2]],marker='o')\n",
    "#ax.view_init(90,120)"
   ]
  },
  {
   "cell_type": "markdown",
   "metadata": {},
   "source": [
    "## Isospectral Manifold: Toda flow"
   ]
  },
  {
   "cell_type": "markdown",
   "metadata": {},
   "source": [
    "An isospectral flow is an equation of the form\n",
    "\\\\[\n",
    "P' = ξ(P)P - Pξ(P)\n",
    "\\\\]\n",
    "where $P$ is symmetric and $ξ(P)$ is skew-symmetric."
   ]
  },
  {
   "cell_type": "markdown",
   "metadata": {},
   "source": [
    "We implement what is known as the *Toda flow*:"
   ]
  },
  {
   "cell_type": "code",
   "execution_count": null,
   "metadata": {
    "collapsed": false,
    "jupyter": {
     "outputs_hidden": false
    }
   },
   "outputs": [],
   "source": [
    "def iso_field(P):\n",
    "    sk = np.tril(P) - np.triu(P) # skew symmetric\n",
    "    return sk"
   ]
  },
  {
   "cell_type": "markdown",
   "metadata": {},
   "source": [
    "Random symmetric matrix as initial condition."
   ]
  },
  {
   "cell_type": "code",
   "execution_count": null,
   "metadata": {
    "collapsed": false,
    "jupyter": {
     "outputs_hidden": false
    }
   },
   "outputs": [],
   "source": [
    "#init = np.array([[-1.,1,0],[1,.5,1],[0,1,.5]])\n",
    "rmat = np.random.randn(20,20)\n",
    "init = rmat + rmat.T\n",
    "plt.matshow(init)\n",
    "plt.savefig('matinit.png', bbox_inches='tight', pad_inches=0)"
   ]
  },
  {
   "cell_type": "code",
   "execution_count": null,
   "metadata": {
    "collapsed": false,
    "jupyter": {
     "outputs_hidden": false
    }
   },
   "outputs": [],
   "source": [
    "from homogint.homogint import trans_adjoint\n",
    "Ps = [init]\n",
    "dt = .25\n",
    "solve(time_step(dt)(iso_field), Ps, lambda i,x: i>30/dt, action=trans_adjoint)"
   ]
  },
  {
   "cell_type": "markdown",
   "metadata": {},
   "source": [
    "The flow does not change the eigenvalues (hence the name *isospectral flow*)"
   ]
  },
  {
   "cell_type": "code",
   "execution_count": null,
   "metadata": {
    "collapsed": false,
    "jupyter": {
     "outputs_hidden": false
    }
   },
   "outputs": [],
   "source": [
    "import numpy.linalg as nl\n",
    "eigenvalues = [np.sort(nl.eigvals(P)) for P in Ps]\n",
    "aeigenvalues = np.array(eigenvalues)\n",
    "deig = aeigenvalues - aeigenvalues[0]\n",
    "plt.plot(deig)\n",
    "plt.title(\"eigenvalue drift\")"
   ]
  },
  {
   "cell_type": "code",
   "execution_count": null,
   "metadata": {
    "collapsed": false,
    "jupyter": {
     "outputs_hidden": false
    }
   },
   "outputs": [],
   "source": [
    "from ipywidgets import interact\n",
    "def view_matrix(i):\n",
    "    plt.matshow(Ps[i])\n",
    "interact(view_matrix, i=(0,len(Ps)-1,1))"
   ]
  },
  {
   "cell_type": "markdown",
   "metadata": {},
   "source": [
    "The flow is a continuous version of the [QR algorithm](http://www.wikiwand.com/en/QR_algorithm), so it almost converges towards a diagonal matrix (*almost* because there is no shift and deflations)."
   ]
  },
  {
   "cell_type": "code",
   "execution_count": null,
   "metadata": {
    "collapsed": false,
    "jupyter": {
     "outputs_hidden": false
    }
   },
   "outputs": [],
   "source": [
    "plt.matshow(Ps[-1])\n",
    "plt.savefig('matfinal.png', bbox_inches='tight', pad_inches=0)"
   ]
  },
  {
   "cell_type": "markdown",
   "metadata": {},
   "source": [
    "## Airy Equation"
   ]
  },
  {
   "cell_type": "markdown",
   "metadata": {},
   "source": [
    "*Example from [Lie Group Method](http://www.damtp.cam.ac.uk/user/na/NA_papers/NA2000_03.pdf)*"
   ]
  },
  {
   "cell_type": "markdown",
   "metadata": {},
   "source": [
    "We solve the equation\n",
    "\\\\[\n",
    "x'' + tx = 0\n",
    "\\\\]"
   ]
  },
  {
   "cell_type": "markdown",
   "metadata": {},
   "source": [
    "It is reformulated as\n",
    "\\\\[\n",
    "(x,v)' = \\begin{bmatrix} 0 & 1\\\\ -t & 0\\end{bmatrix} (x,v)\n",
    "\\\\]"
   ]
  },
  {
   "cell_type": "code",
   "execution_count": null,
   "metadata": {
    "collapsed": false,
    "jupyter": {
     "outputs_hidden": false
    }
   },
   "outputs": [],
   "source": [
    "def airy_field(x):\n",
    "    mat = np.zeros([4,4])\n",
    "    mat[0,1] = 1.\n",
    "    mat[1,0] = -x[-2]\n",
    "    mat[-2,-1] = 1 # time\n",
    "    return mat"
   ]
  },
  {
   "cell_type": "markdown",
   "metadata": {},
   "source": [
    "We solve it with initial condition $x(0) = 1.$, $x'(0) = 0$."
   ]
  },
  {
   "cell_type": "code",
   "execution_count": null,
   "metadata": {
    "collapsed": false,
    "jupyter": {
     "outputs_hidden": false
    }
   },
   "outputs": [],
   "source": [
    "%%time\n",
    "x0 = np.array([1.,0,0,1])\n",
    "xs = [x0]\n",
    "dt=.05\n",
    "solve(time_step(dt)(airy_field), xs, stopping=lambda i,x: i>100/dt)"
   ]
  },
  {
   "cell_type": "code",
   "execution_count": null,
   "metadata": {
    "collapsed": false,
    "jupyter": {
     "outputs_hidden": false
    }
   },
   "outputs": [],
   "source": [
    "len(xs)"
   ]
  },
  {
   "cell_type": "code",
   "execution_count": null,
   "metadata": {
    "collapsed": false,
    "jupyter": {
     "outputs_hidden": false
    }
   },
   "outputs": [],
   "source": [
    "fig = plt.figure(figsize=(15,5))\n",
    "axs = np.array(xs)\n",
    "plt.plot(axs[:,-2],axs[:,0])\n",
    "#plot(axs[1900:,-2],axs[1900:,0],marker='.')"
   ]
  },
  {
   "cell_type": "markdown",
   "metadata": {},
   "source": [
    "We can compute the exact solution using the `airy` function in `scipy.special`."
   ]
  },
  {
   "cell_type": "code",
   "execution_count": null,
   "metadata": {
    "collapsed": false,
    "jupyter": {
     "outputs_hidden": false
    }
   },
   "outputs": [],
   "source": [
    "from scipy.special import airy\n",
    "from scipy.linalg import solve as linsolve"
   ]
  },
  {
   "cell_type": "code",
   "execution_count": null,
   "metadata": {
    "collapsed": false,
    "jupyter": {
     "outputs_hidden": false
    }
   },
   "outputs": [],
   "source": [
    "# taken from the DiffMan examples\n",
    "tstart = 0\n",
    "m =np.array([airy(tstart)[0], airy(tstart)[2], -airy(tstart)[1], -airy(tstart)[3]]).reshape(2,-1)\n",
    "c = linsolve(m, np.array([1.,0]))\n",
    "\n",
    "# Computes the 'true' solution:\n",
    "ts = np.linspace(90,100,1000)\n",
    "def exact_airy(ts, c):\n",
    "    return c[0]*np.real(airy(-ts)[0]) + c[1]*np.real(airy(-ts)[2])"
   ]
  },
  {
   "cell_type": "code",
   "execution_count": null,
   "metadata": {
    "collapsed": false,
    "jupyter": {
     "outputs_hidden": false
    }
   },
   "outputs": [],
   "source": [
    "plt.figure(figsize=(15,5))\n",
    "skip=1800\n",
    "plt.plot(ts,exact_airy(ts,c),label=\"exact\")\n",
    "plt.plot(axs[skip:,-2],axs[skip:,0],marker='o',linestyle='',label=\"computed\")\n",
    "plt.legend()"
   ]
  },
  {
   "cell_type": "code",
   "execution_count": null,
   "metadata": {
    "collapsed": false,
    "jupyter": {
     "outputs_hidden": false
    }
   },
   "outputs": [],
   "source": [
    "plt.figure(figsize=(15,5))\n",
    "error = axs[:,0] - exact_airy(axs[:,-2],c)\n",
    "plt.plot(axs[1:,-2],np.log10(np.abs(error[1:])))\n",
    "plt.title(r\"$\\log_{10}(error)$\")"
   ]
  },
  {
   "cell_type": "markdown",
   "metadata": {},
   "source": [
    "## Stiefel manifold: Oja Flow"
   ]
  },
  {
   "cell_type": "markdown",
   "metadata": {},
   "source": [
    "*Example from [Geometric Numerical Integration, § IV.9.2](http://link.springer.com/book/10.1007%2F3-540-30666-8)*"
   ]
  },
  {
   "cell_type": "markdown",
   "metadata": {},
   "source": [
    "The *Oja flow* is given by\n",
    "\\\\[\n",
    "Q' = (I - QQ^T)A Q\n",
    "\\\\]\n",
    "for a given positive definite matrix $A$.\n",
    "\n",
    "Using the connection formula \n",
    "\\\\[\n",
    "\\langle ω,δQ \\rangle_Q = δQ Q^T - QδQ^T -QδQ^T Q Q^T\n",
    "\\\\]\n",
    "we obtain the following vector field on the Lie algebra:\n",
    "\\\\[\n",
    "ξ(Q) = AQQ^T-QQ^TA\n",
    "\\\\]"
   ]
  },
  {
   "cell_type": "code",
   "execution_count": null,
   "metadata": {
    "collapsed": false,
    "jupyter": {
     "outputs_hidden": false
    }
   },
   "outputs": [],
   "source": [
    "D = np.diag([16.,8.,4.])\n",
    "A = D\n",
    "def oja_field(x):\n",
    "    proj = np.dot(x,x.T)\n",
    "    xi = sk.commutator(A,proj)\n",
    "    return xi"
   ]
  },
  {
   "cell_type": "markdown",
   "metadata": {},
   "source": [
    "We choose a random starting point. It amounts to choose two orthogonal vectors of length one."
   ]
  },
  {
   "cell_type": "code",
   "execution_count": null,
   "metadata": {
    "collapsed": false,
    "jupyter": {
     "outputs_hidden": false
    }
   },
   "outputs": [],
   "source": [
    "def normalize(x):\n",
    "    nx = np.sqrt(np.sum(np.square(x)))\n",
    "    return x/nx\n",
    "\n",
    "def rand_sphere_point():\n",
    "    u,v = np.random.rand(2)\n",
    "    phi = u*2*np.pi\n",
    "    theta = np.arccos(2*v-1)\n",
    "    sth = np.sin(theta)\n",
    "    return np.array([sth*np.cos(phi), sth*np.sin(phi), np.cos(theta)])\n",
    "r1 = rand_sphere_point()\n",
    "r1_ = rand_sphere_point()\n",
    "r2 = normalize(np.cross(r1,r1_))\n",
    "x0 = np.array([r1,r2]).T"
   ]
  },
  {
   "cell_type": "markdown",
   "metadata": {},
   "source": [
    "Check that the chosen vectors are orthogonal:"
   ]
  },
  {
   "cell_type": "code",
   "execution_count": null,
   "metadata": {
    "collapsed": false,
    "jupyter": {
     "outputs_hidden": false
    }
   },
   "outputs": [],
   "source": [
    "print(np.allclose(np.dot(x0.T,x0), np.identity(2)))"
   ]
  },
  {
   "cell_type": "markdown",
   "metadata": {},
   "source": [
    "Starging value:"
   ]
  },
  {
   "cell_type": "code",
   "execution_count": null,
   "metadata": {
    "collapsed": false,
    "jupyter": {
     "outputs_hidden": false
    }
   },
   "outputs": [],
   "source": [
    "print(x0)"
   ]
  },
  {
   "cell_type": "code",
   "execution_count": null,
   "metadata": {
    "collapsed": false,
    "jupyter": {
     "outputs_hidden": false
    }
   },
   "outputs": [],
   "source": [
    "xs = [x0]\n",
    "dt = .1\n",
    "solve(time_step(dt)(oja_field), xs, lambda i,x: np.allclose(oja_field(x),0,atol=1e-7))"
   ]
  },
  {
   "cell_type": "code",
   "execution_count": null,
   "metadata": {
    "collapsed": false,
    "jupyter": {
     "outputs_hidden": false
    }
   },
   "outputs": [],
   "source": [
    "len(xs)"
   ]
  },
  {
   "cell_type": "markdown",
   "metadata": {},
   "source": [
    "The flow converges towards an invariant subspace. Here it converges towards the subspace containing the two largest eigenvalues:"
   ]
  },
  {
   "cell_type": "code",
   "execution_count": null,
   "metadata": {
    "collapsed": false,
    "jupyter": {
     "outputs_hidden": false
    }
   },
   "outputs": [],
   "source": [
    "xs[-1]"
   ]
  },
  {
   "cell_type": "code",
   "execution_count": null,
   "metadata": {
    "collapsed": false,
    "jupyter": {
     "outputs_hidden": false
    }
   },
   "outputs": [],
   "source": [
    "axs = np.array(xs)\n",
    "fig = plt.figure(figsize=(15,10))\n",
    "ax = plot_sphere()\n",
    "ths = np.linspace(0,2*np.pi,200)\n",
    "plt.plot(np.cos(ths), np.sin(ths), np.zeros_like(ths))\n",
    "for i in range(2):\n",
    "    for j in [0,-1]:\n",
    "        ax.plot([axs[j,0,i]],[axs[j,1,i]],[axs[j,2,i]],lw=2,marker=['o','D'][j])\n",
    "        ax.plot([0.,axs[j,0,i]],[0,axs[j,1,i]],[0,axs[j,2,i]],color=['black','red'][j])\n",
    "    ax.plot(axs[:,0,i],axs[:,1,i],axs[:,2,i],marker='.')\n",
    "ax.view_init(30,0)\n",
    "plt.savefig('oja.pdf')"
   ]
  },
  {
   "cell_type": "markdown",
   "metadata": {},
   "source": [
    "Check the convergence towards the plane with largest eigenvalues."
   ]
  },
  {
   "cell_type": "code",
   "execution_count": null,
   "metadata": {
    "collapsed": false,
    "jupyter": {
     "outputs_hidden": false
    }
   },
   "outputs": [],
   "source": [
    "for i in range(2):\n",
    "    plt.plot(np.log10(np.abs(axs[:,-1,i])),marker='.')\n",
    "plt.title(\"log10 of the z coordinate\")"
   ]
  }
 ],
 "metadata": {
  "gist_id": "2e2e4bf69d02872ba2f0",
  "kernelspec": {
   "display_name": "Python 3 (ipykernel)",
   "language": "python",
   "name": "python3"
  },
  "language_info": {
   "codemirror_mode": {
    "name": "ipython",
    "version": 3
   },
   "file_extension": ".py",
   "mimetype": "text/x-python",
   "name": "python",
   "nbconvert_exporter": "python",
   "pygments_lexer": "ipython3",
   "version": "3.12.5"
  }
 },
 "nbformat": 4,
 "nbformat_minor": 4
}
