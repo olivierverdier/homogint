{
 "cells": [
  {
   "cell_type": "code",
   "execution_count": null,
   "metadata": {},
   "outputs": [],
   "source": [
    "%matplotlib inline\n",
    "%config InlineBackend.figure_formats = {'svg',}"
   ]
  },
  {
   "cell_type": "code",
   "execution_count": null,
   "metadata": {},
   "outputs": [],
   "source": [
    "import matplotlib.pyplot as plt\n",
    "import numpy as np\n",
    "from homogint import Integrator\n",
    "from homogint.utils import time_step\n",
    "import homogint.skeletons as sk"
   ]
  },
  {
   "cell_type": "code",
   "execution_count": null,
   "metadata": {},
   "outputs": [],
   "source": [
    "%run plot_sphere.py"
   ]
  },
  {
   "cell_type": "code",
   "execution_count": null,
   "metadata": {},
   "outputs": [],
   "source": [
    "rkmk4 = Integrator(sk.RKMK4())"
   ]
  },
  {
   "cell_type": "code",
   "execution_count": null,
   "metadata": {},
   "outputs": [],
   "source": [
    "import tqdm"
   ]
  },
  {
   "cell_type": "code",
   "execution_count": null,
   "metadata": {},
   "outputs": [],
   "source": [
    "def solve(vf,xs,stopping, maxit=10000):\n",
    "    \"Simple solver with stopping condition. The list xs is modified **in place**.\"\n",
    "    for i in tqdm.tqdm(range(maxit)):\n",
    "        if stopping(i,xs[-1]):\n",
    "            break\n",
    "        xs.append(rkmk4.step(vf, xs[-1]))"
   ]
  },
  {
   "cell_type": "markdown",
   "metadata": {},
   "source": [
    "The nonautonomous equation is\n",
    "\\\\[\n",
    "x' = v(t) \\times x\n",
    "\\\\]\n",
    "where \n",
    "\\\\[\n",
    "v(t) = [0, 1, t]\n",
    "\\\\]"
   ]
  },
  {
   "cell_type": "markdown",
   "metadata": {},
   "source": [
    "This can be rewritten in an autonomous equation in \\\\(\\mathbf{R}^5\\\\) as\n",
    "\\\\[\n",
    "X' = \\begin{bmatrix}\n",
    "[v(X_4)\\times] & 0 & 0\\\\\n",
    "0 & 0 & 1\\\\\n",
    "0 & 0 & 0\n",
    "\\end{bmatrix}\n",
    "X\n",
    "\\\\]\n",
    "Where \\\\([v\\times]\\\\) denotes the skew symmetric matrix corresponding to the linear operator \\\\(x \\mapsto v \\times x\\\\)."
   ]
  },
  {
   "cell_type": "code",
   "execution_count": null,
   "metadata": {},
   "outputs": [],
   "source": [
    "def get_field(time_dependent):\n",
    "    \"\"\"\n",
    "    Create a vector field from a time dependent vector valued function.\n",
    "    \"\"\"\n",
    "    def field(x):\n",
    "        J = np.zeros([5,5])\n",
    "        t = x[-2]\n",
    "        v = time_dependent(t)\n",
    "        J[0,1] = -v[2]\n",
    "        J[0,2] = v[1]\n",
    "        J[1,2] = -v[0]\n",
    "        J -= J.T\n",
    "        J[-2,-1] = 1.\n",
    "        return J\n",
    "    return field"
   ]
  },
  {
   "cell_type": "code",
   "execution_count": null,
   "metadata": {},
   "outputs": [],
   "source": [
    "def timedep_field(t):\n",
    "    return t*np.array([0.,0.,1]) + np.array([0,1,0])"
   ]
  },
  {
   "cell_type": "code",
   "execution_count": null,
   "metadata": {
    "collapsed": false,
    "jupyter": {
     "outputs_hidden": false
    }
   },
   "outputs": [],
   "source": [
    "xs = [np.array([0.,0,1,-10,1])]\n",
    "dt = .02\n",
    "solve(time_step(dt)(get_field(timedep_field)),xs,lambda i,x:x[-2]>10)\n",
    "axs = np.array(xs)"
   ]
  },
  {
   "cell_type": "code",
   "execution_count": null,
   "metadata": {},
   "outputs": [],
   "source": [
    "def plot2(axs):\n",
    "    plt.plot(axs[0,0],axs[0,1],'o')\n",
    "    plt.plot(axs[:,0], axs[:,1],marker='.')"
   ]
  },
  {
   "cell_type": "code",
   "execution_count": null,
   "metadata": {
    "collapsed": false,
    "jupyter": {
     "outputs_hidden": false
    }
   },
   "outputs": [],
   "source": [
    "plt.axis('equal')\n",
    "plot2(axs)"
   ]
  },
  {
   "cell_type": "code",
   "execution_count": null,
   "metadata": {
    "collapsed": false,
    "jupyter": {
     "outputs_hidden": false
    }
   },
   "outputs": [],
   "source": [
    "fig = plt.figure(figsize=(15,10))\n",
    "ax = plot_sphere()\n",
    "s = slice(None)\n",
    "ax.plot(axs[s,0],axs[s,1],axs[s,2],lw=2,marker='.',color=['black','blue'][0], alpha=[1.,0.2][0])\n",
    "ax.view_init(30,-100)\n"
   ]
  },
  {
   "cell_type": "code",
   "execution_count": null,
   "metadata": {},
   "outputs": [],
   "source": []
  }
 ],
 "metadata": {
  "kernelspec": {
   "display_name": "Python 3 (ipykernel)",
   "language": "python",
   "name": "python3"
  },
  "language_info": {
   "codemirror_mode": {
    "name": "ipython",
    "version": 3
   },
   "file_extension": ".py",
   "mimetype": "text/x-python",
   "name": "python",
   "nbconvert_exporter": "python",
   "pygments_lexer": "ipython3",
   "version": "3.12.5"
  }
 },
 "nbformat": 4,
 "nbformat_minor": 4
}
