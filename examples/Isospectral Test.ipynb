{
 "cells": [
  {
   "cell_type": "code",
   "execution_count": null,
   "id": "dad48d7a-ca0b-4e41-86fe-6abc35f753ee",
   "metadata": {},
   "outputs": [],
   "source": [
    "import numpy as np"
   ]
  },
  {
   "cell_type": "code",
   "execution_count": null,
   "id": "adc0d2b1-1ec0-4a6e-9bb6-bfc8c81b6c82",
   "metadata": {},
   "outputs": [],
   "source": [
    "rng = np.random.default_rng()"
   ]
  },
  {
   "cell_type": "code",
   "execution_count": null,
   "id": "83270fbe-0bdc-456d-9067-9d2a9ba024c4",
   "metadata": {},
   "outputs": [],
   "source": [
    "import homogint\n",
    "import homogint.skeletons as sk"
   ]
  },
  {
   "cell_type": "code",
   "execution_count": null,
   "id": "1b40c6fb-a1cb-4395-ae83-d2a580fe57fe",
   "metadata": {},
   "outputs": [],
   "source": [
    "import scipy.linalg"
   ]
  },
  {
   "cell_type": "code",
   "execution_count": null,
   "id": "1e0af15e-e154-4327-8f16-9ecc2a1190cc",
   "metadata": {},
   "outputs": [],
   "source": [
    "def iso_field(P):\n",
    "    sk = np.tril(P) - np.triu(P)  # skew symmetric\n",
    "    return sk\n",
    "\n",
    "def solve(vf,xs,stopping,action=None, maxit=10000,solver=None):\n",
    "    \"Simple solver with stopping condition. The list xs is modified **in place**.\"\n",
    "    if solver is None:\n",
    "        solver = homogint.Integrator(sk.RKMK4(), homogint.Geodesic(action, scipy.linalg.expm))\n",
    "    for i in range(maxit):\n",
    "        if stopping(i,xs[-1]):\n",
    "            break\n",
    "        xs.append(solver.step(vf, xs[-1]))\n"
   ]
  },
  {
   "cell_type": "code",
   "execution_count": null,
   "id": "d64af35b-36f7-4a42-b36f-463d0aacff85",
   "metadata": {},
   "outputs": [],
   "source": [
    "rmat = rng.standard_normal((5,5))\n",
    "init = rmat + rmat.T\n",
    "Ps = [init]\n",
    "dt = .25"
   ]
  },
  {
   "cell_type": "code",
   "execution_count": null,
   "id": "5bdeeaf4-3111-4d33-b7e8-7733a6c3ade8",
   "metadata": {},
   "outputs": [],
   "source": [
    "%%time\n",
    "solve(homogint.time_step(dt)(iso_field), Ps, lambda i,x: i>10/dt, action=homogint.actions.trans_adjoint)"
   ]
  },
  {
   "cell_type": "code",
   "execution_count": null,
   "id": "dac10fb7-849b-4562-8814-f802e2e1118f",
   "metadata": {},
   "outputs": [],
   "source": [
    "import numpy.linalg as nl"
   ]
  },
  {
   "cell_type": "code",
   "execution_count": null,
   "id": "dc7e78a8-08f8-47d1-b24b-ddf0b02e4cee",
   "metadata": {},
   "outputs": [],
   "source": [
    "eigenvalues = [np.sort(nl.eigvals(P)) for P in Ps]\n",
    "aeigenvalues = np.array(eigenvalues)\n",
    "deig = aeigenvalues - aeigenvalues[0]\n",
    "#npt.assert_allclose(deig, 0, atol=1e-12, err_msg=\"numerical flow is isospectral\")"
   ]
  },
  {
   "cell_type": "code",
   "execution_count": null,
   "id": "3d6aaa0b-3c3b-48a9-abf9-a984bc0e11ad",
   "metadata": {},
   "outputs": [],
   "source": [
    "import matplotlib.pyplot as plt"
   ]
  },
  {
   "cell_type": "code",
   "execution_count": null,
   "id": "01b1ffdd-156a-4c26-aa13-c051c33ea2e6",
   "metadata": {},
   "outputs": [],
   "source": [
    "plt.plot(deig)"
   ]
  },
  {
   "cell_type": "code",
   "execution_count": null,
   "id": "9a0978fd-7d72-4139-92b4-6d30f34771d6",
   "metadata": {},
   "outputs": [],
   "source": []
  }
 ],
 "metadata": {
  "kernelspec": {
   "display_name": "Python 3 (ipykernel)",
   "language": "python",
   "name": "python3"
  },
  "language_info": {
   "codemirror_mode": {
    "name": "ipython",
    "version": 3
   },
   "file_extension": ".py",
   "mimetype": "text/x-python",
   "name": "python",
   "nbconvert_exporter": "python",
   "pygments_lexer": "ipython3",
   "version": "3.12.5"
  }
 },
 "nbformat": 4,
 "nbformat_minor": 5
}
